{
 "cells": [
  {
   "cell_type": "markdown",
   "id": "a3e75cef",
   "metadata": {},
   "source": [
    "This package allows you to construct and export mtg into 4 formats : .mtg, .opf, .vtp and .gltf"
   ]
  },
  {
   "cell_type": "code",
   "execution_count": null,
   "id": "865040e3",
   "metadata": {},
   "outputs": [],
   "source": [
    "import os\n",
    "import format_io as f_io #trop general\n",
    "                        #plant archi ... je trouve un nom PlantConvert \n",
    "    #pltformat mieux que format\n",
    "\n",
    "from _const import OPFS\n",
    "\n",
    "DATA_PATH = OPFS\n",
    "ext = \"opf\"\n",
    "\n",
    "#example opf filenames\n",
    "simple_plant = \"%s%s.%s\"%(OPFS, \"simple_plant\", ext)\n",
    "coffee = \"%s%s.%s\"%(OPFS, \"coffee\", ext)\n",
    "palm = \"%s%s.%s\"%(OPFS, \"DA1_Average_MAP_90\", ext)"
   ]
  },
  {
   "cell_type": "markdown",
   "id": "086d7db4",
   "metadata": {},
   "source": [
    "Let's first read a simple plant file and visualize it with plantgl. We use an object oriented approach to implement the parser / mtg constructer because we intent to deal with complex data structure.\n",
    "\n",
    "You can instantiate an input/output object using `format_io.io()` with the file name and then ask the object to parse the file by object method `io.read()`. The mtg will be saved in the attribute `io.g`.\n",
    "\n",
    "The `read` method will detect the extension of the file name to determin the specific read method. You can also calling those methods without using the input/output object by calling them directly from `format_io.vtk`, `format_io.opf` and `format_io.gltf` directly."
   ]
  },
  {
   "cell_type": "code",
   "execution_count": null,
   "id": "eaa81ff0",
   "metadata": {},
   "outputs": [],
   "source": [
    "import openalea.plantgl.all as pgl"
   ]
  },
  {
   "cell_type": "code",
   "execution_count": null,
   "id": "93662f70",
   "metadata": {},
   "outputs": [],
   "source": [
    "io = f_io.io(file=simple_plant)\n",
    "io.read()"
   ]
  },
  {
   "cell_type": "code",
   "execution_count": null,
   "id": "5c319c7b",
   "metadata": {},
   "outputs": [],
   "source": [
    "io.g.display()"
   ]
  },
  {
   "cell_type": "code",
   "execution_count": null,
   "id": "ab3f7b18",
   "metadata": {},
   "outputs": [],
   "source": [
    "%gui qt\n",
    "scene = f_io.geometry.get_scene(io.g)\n",
    "pgl.Viewer.display(scene)"
   ]
  },
  {
   "cell_type": "markdown",
   "id": "b4c8f54d",
   "metadata": {},
   "source": [
    "The meshes are stored as propreties of each node who has associated geometry, the previous function `get_scene` simply extract each geometry property and assemble them into a plantgl scene object. \n",
    "\n",
    "The list of reference meshes are stored as a node attribute of the node at scale 0. They are supposed to be stored in a dictionnary with mesh_id as keys and a tuple as values. The tuple contains a triangle mesh (TriangleSet object of plantgl) and a boolean that indicates if tapering should be applied on the mesh (this is made for compatibilitiy with opf and yet not very optimized...)"
   ]
  },
  {
   "cell_type": "code",
   "execution_count": null,
   "id": "16ab95d6",
   "metadata": {},
   "outputs": [],
   "source": [
    "prop = io.g.properties()\n",
    "geo = prop['geometry']\n",
    "print(geo)\n",
    "ref_geo = prop[\"ref_meshes\"]\n",
    "print(ref_geo)"
   ]
  },
  {
   "cell_type": "markdown",
   "id": "da7d7eac",
   "metadata": {},
   "source": [
    "Now we can try another more complex example. To read another `opf` file, you just need to change the `file` attribute of the object `io`. And ask for parsing again using the `read` method."
   ]
  },
  {
   "cell_type": "code",
   "execution_count": null,
   "id": "218847ed",
   "metadata": {},
   "outputs": [],
   "source": [
    "io.file = coffee #you can also try with palm\n",
    "io.read()"
   ]
  },
  {
   "cell_type": "code",
   "execution_count": null,
   "id": "f67d8f64",
   "metadata": {},
   "outputs": [],
   "source": [
    "scene = f_io.geometry.get_scene(io.g)\n",
    "pgl.Viewer.display(scene)"
   ]
  },
  {
   "cell_type": "markdown",
   "id": "c075c3cf",
   "metadata": {},
   "source": [
    "To write the currently loaded mtg into another file format, use the `write` method by providing a new filename. Let's switch back to the simple_plant as it's faster to write into file.\n",
    "\n",
    "The [gltf](https://www.khronos.org/registry/glTF/specs/2.0/glTF-2.0.html) format is a xml styled format that allows to save a scene graph (a hierarchy of geometric objects to be rendered, we exploit this hierarchy to encode the topology of a mtg)."
   ]
  },
  {
   "cell_type": "code",
   "execution_count": null,
   "id": "73725e5d",
   "metadata": {},
   "outputs": [],
   "source": [
    "io.file = simple_plant\n",
    "io.read()\n",
    "io.write(\"simple_plant.gltf\")"
   ]
  },
  {
   "cell_type": "code",
   "execution_count": null,
   "id": "2240de26",
   "metadata": {},
   "outputs": [],
   "source": [
    "# shell command to print the gltf file\n",
    "%cat simple_plant.gltf"
   ]
  },
  {
   "cell_type": "markdown",
   "id": "17f4bc61",
   "metadata": {},
   "source": [
    "# Write opf with geometry from a mtg file\n",
    "You can load a mtg file and write it into opf format. The opf format doesn't require necessarily geometries. When you generate geometry from the mtg file and if you want to output an opf equipped with geoemtry, you should call the method `f_io.opf.writer.apply_scene(g, scene)` to associate a plantgl scene with mtg's vertices.\n",
    "\n",
    "Inside this function, `scene.todict()` will be applied and we expect that the keys correspond to the vertices id that contains the geometry. By calling `apply_scene`, the property `geometry` and `ref_meshes` will be created and you can write opf with geometry as usual.\n",
    "\n",
    "We intent to extract reference meshes from scene, but it's difficult to do so in general case. The method `apply_scene` saves each mesh as reference mesh and the transformation is always identity.\n",
    "\n",
    "In `strawberry/` there is a working example using `openalea.strawberry` which provides a function to generate 3D geometry of a scene. Then we associate the geometry to the mtg and write it into opf.\n",
    "\n",
    ">format et visu (oawidgets)"
   ]
  }
 ],
 "metadata": {
  "kernelspec": {
   "display_name": "Python 3 (ipykernel)",
   "language": "python",
   "name": "python3"
  },
  "language_info": {
   "codemirror_mode": {
    "name": "ipython",
    "version": 3
   },
   "file_extension": ".py",
   "mimetype": "text/x-python",
   "name": "python",
   "nbconvert_exporter": "python",
   "pygments_lexer": "ipython3",
   "version": "3.8.13"
  }
 },
 "nbformat": 4,
 "nbformat_minor": 5
}
